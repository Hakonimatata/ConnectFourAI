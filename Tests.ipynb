{
 "cells": [
  {
   "cell_type": "code",
   "execution_count": 1,
   "metadata": {},
   "outputs": [],
   "source": [
    "from Game import ConnectFour3DEnv"
   ]
  },
  {
   "cell_type": "code",
   "execution_count": 2,
   "metadata": {},
   "outputs": [
    {
     "name": "stdout",
     "output_type": "stream",
     "text": [
      "False\n",
      "True\n",
      "[[[ 0  0  0  0]\n",
      "  [ 0  0  0  0]\n",
      "  [ 0  0  0  0]\n",
      "  [ 0  0  0  1]]\n",
      "\n",
      " [[ 0  0  0  0]\n",
      "  [ 0  0  0  0]\n",
      "  [ 0  0  1  0]\n",
      "  [ 0  0  0 -1]]\n",
      "\n",
      " [[ 0  0  0  0]\n",
      "  [ 0  1  0  0]\n",
      "  [ 0  0 -1  0]\n",
      "  [ 0  0  0 -1]]\n",
      "\n",
      " [[ 1  0  0  0]\n",
      "  [ 0 -1  0  0]\n",
      "  [ 0  0 -1  0]\n",
      "  [ 0  0  0 -1]]]\n"
     ]
    }
   ],
   "source": [
    "game = ConnectFour3DEnv()\n",
    "game.apply_action([3, 3])\n",
    "game.apply_action([3, 3])\n",
    "game.apply_action([3, 3])\n",
    "\n",
    "game.apply_action([2, 2])\n",
    "game.apply_action([2, 2])\n",
    "\n",
    "game.apply_action([1, 1])\n",
    "\n",
    "print(game.check_win())\n",
    "\n",
    "game.switch_player()\n",
    "\n",
    "game.apply_action([0, 0])\n",
    "game.apply_action([1, 1])\n",
    "game.apply_action([2, 2])\n",
    "game.apply_action([3, 3])\n",
    "\n",
    "print(game.check_win())\n",
    "print(game.grid)"
   ]
  },
  {
   "cell_type": "code",
   "execution_count": 3,
   "metadata": {},
   "outputs": [
    {
     "name": "stdout",
     "output_type": "stream",
     "text": [
      "True\n",
      "[[[0 0 0 0]\n",
      "  [0 0 0 0]\n",
      "  [0 0 0 0]\n",
      "  [0 0 0 1]]\n",
      "\n",
      " [[0 0 0 0]\n",
      "  [0 0 0 0]\n",
      "  [0 0 0 0]\n",
      "  [0 0 0 1]]\n",
      "\n",
      " [[0 0 0 0]\n",
      "  [0 0 0 0]\n",
      "  [0 0 0 0]\n",
      "  [0 0 0 1]]\n",
      "\n",
      " [[0 0 0 0]\n",
      "  [0 0 0 0]\n",
      "  [0 0 0 0]\n",
      "  [0 0 0 1]]]\n"
     ]
    }
   ],
   "source": [
    "game = ConnectFour3DEnv()\n",
    "game.apply_action([3, 3])\n",
    "game.apply_action([3, 3])\n",
    "game.apply_action([3, 3])\n",
    "game.apply_action([3, 3])\n",
    "\n",
    "\n",
    "\n",
    "print(game.check_win())\n",
    "print(game.grid)"
   ]
  }
 ],
 "metadata": {
  "kernelspec": {
   "display_name": "base",
   "language": "python",
   "name": "python3"
  },
  "language_info": {
   "codemirror_mode": {
    "name": "ipython",
    "version": 3
   },
   "file_extension": ".py",
   "mimetype": "text/x-python",
   "name": "python",
   "nbconvert_exporter": "python",
   "pygments_lexer": "ipython3",
   "version": "3.11.5"
  }
 },
 "nbformat": 4,
 "nbformat_minor": 2
}
