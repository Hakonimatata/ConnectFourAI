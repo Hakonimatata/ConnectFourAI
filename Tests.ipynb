{
 "cells": [
  {
   "cell_type": "code",
   "execution_count": 2,
   "metadata": {},
   "outputs": [],
   "source": [
    "from Environment import ConnectFour3DEnv"
   ]
  },
  {
   "cell_type": "code",
   "execution_count": 3,
   "metadata": {},
   "outputs": [
    {
     "name": "stdout",
     "output_type": "stream",
     "text": [
      "False\n",
      "True\n",
      "[[[ 0  0  0  0]\n",
      "  [ 0  0  0  0]\n",
      "  [ 0  0  0  0]\n",
      "  [ 0  0  0 -1]]\n",
      "\n",
      " [[ 0  0  0  0]\n",
      "  [ 0  0  0  0]\n",
      "  [ 0  0 -1  0]\n",
      "  [ 0  0  0  1]]\n",
      "\n",
      " [[ 0  0  0  0]\n",
      "  [ 0 -1  0  0]\n",
      "  [ 0  0  1  0]\n",
      "  [ 0  0  0  1]]\n",
      "\n",
      " [[-1  0  0  0]\n",
      "  [ 0  1  0  0]\n",
      "  [ 0  0  1  0]\n",
      "  [ 0  0  0  1]]]\n"
     ]
    }
   ],
   "source": [
    "game = ConnectFour3DEnv()\n",
    "game.apply_action([3, 3])\n",
    "game.apply_action([3, 3])\n",
    "game.apply_action([3, 3])\n",
    "\n",
    "game.apply_action([2, 2])\n",
    "game.apply_action([2, 2])\n",
    "\n",
    "game.apply_action([1, 1])\n",
    "\n",
    "print(game.check_win())\n",
    "\n",
    "game.switch_player()\n",
    "\n",
    "game.apply_action([0, 0])\n",
    "game.apply_action([1, 1])\n",
    "game.apply_action([2, 2])\n",
    "game.apply_action([3, 3])\n",
    "\n",
    "print(game.check_win())\n",
    "print(game.grid)"
   ]
  },
  {
   "cell_type": "code",
   "execution_count": 4,
   "metadata": {},
   "outputs": [
    {
     "name": "stdout",
     "output_type": "stream",
     "text": [
      "False\n",
      "[[[0 0 0 0]\n",
      "  [0 0 0 0]\n",
      "  [0 0 0 0]\n",
      "  [0 0 0 1]]\n",
      "\n",
      " [[0 0 0 0]\n",
      "  [0 0 0 0]\n",
      "  [0 0 0 0]\n",
      "  [0 0 0 1]]\n",
      "\n",
      " [[0 0 0 0]\n",
      "  [0 0 0 0]\n",
      "  [0 0 0 0]\n",
      "  [0 0 0 1]]\n",
      "\n",
      " [[0 0 0 0]\n",
      "  [0 0 0 0]\n",
      "  [0 0 0 0]\n",
      "  [0 0 0 1]]]\n"
     ]
    }
   ],
   "source": [
    "game = ConnectFour3DEnv()\n",
    "game.apply_action([3, 3])\n",
    "game.apply_action([3, 3])\n",
    "game.apply_action([3, 3])\n",
    "game.apply_action([3, 3])\n",
    "\n",
    "\n",
    "\n",
    "print(game.check_win())\n",
    "print(game.grid)"
   ]
  },
  {
   "cell_type": "code",
   "execution_count": 5,
   "metadata": {},
   "outputs": [
    {
     "name": "stdout",
     "output_type": "stream",
     "text": [
      "4\n"
     ]
    },
    {
     "ename": "TypeError",
     "evalue": "ConnectFour3DEnv.step() missing 1 required positional argument: 'player'",
     "output_type": "error",
     "traceback": [
      "\u001b[1;31m---------------------------------------------------------------------------\u001b[0m",
      "\u001b[1;31mTypeError\u001b[0m                                 Traceback (most recent call last)",
      "Cell \u001b[1;32mIn[5], line 6\u001b[0m\n\u001b[0;32m      2\u001b[0m game\u001b[38;5;241m.\u001b[39mreset()\n\u001b[0;32m      4\u001b[0m \u001b[38;5;28mprint\u001b[39m(\u001b[38;5;28mlen\u001b[39m(game\u001b[38;5;241m.\u001b[39mgrid))\n\u001b[1;32m----> 6\u001b[0m game\u001b[38;5;241m.\u001b[39mstep((\u001b[38;5;241m0\u001b[39m, \u001b[38;5;241m0\u001b[39m))\n\u001b[0;32m      8\u001b[0m \u001b[38;5;28mprint\u001b[39m(\u001b[38;5;28mlen\u001b[39m(game\u001b[38;5;241m.\u001b[39mgrid))\n\u001b[0;32m     10\u001b[0m game\u001b[38;5;241m.\u001b[39mstep((\u001b[38;5;241m1\u001b[39m, \u001b[38;5;241m3\u001b[39m))\n",
      "\u001b[1;31mTypeError\u001b[0m: ConnectFour3DEnv.step() missing 1 required positional argument: 'player'"
     ]
    }
   ],
   "source": [
    "game = ConnectFour3DEnv()\n",
    "game.reset()\n",
    "\n",
    "print(len(game.grid))\n",
    "\n",
    "game.step((0, 0))\n",
    "\n",
    "print(len(game.grid))\n",
    "\n",
    "game.step((1, 3))\n",
    "game.step((1, 3))\n",
    "game.step((1, 3))\n",
    "game.step((0, 0))\n",
    "game.step((1, 3))\n",
    "game.step((1, 0))\n",
    "game.step((1, 3))\n",
    "game.step((1, 3))\n",
    "\n",
    "\n",
    "\n",
    "\n",
    "# print(game.grid)"
   ]
  },
  {
   "cell_type": "code",
   "execution_count": null,
   "metadata": {},
   "outputs": [
    {
     "name": "stdout",
     "output_type": "stream",
     "text": [
      "PyTorch version: 2.5.1+cu118\n",
      "CUDA available: True\n",
      "CUDA version: 11.8\n",
      "GPU name: NVIDIA GeForce RTX 2060\n"
     ]
    }
   ],
   "source": [
    "import torch\n",
    "print(\"PyTorch version:\", torch.__version__)\n",
    "print(\"CUDA available:\", torch.cuda.is_available())\n",
    "if torch.cuda.is_available():\n",
    "    print(\"CUDA version:\", torch.version.cuda)\n",
    "    print(\"GPU name:\", torch.cuda.get_device_name(0))\n"
   ]
  },
  {
   "cell_type": "code",
   "execution_count": null,
   "metadata": {},
   "outputs": [
    {
     "data": {
      "image/png": "[encoded data removed]",
      "text/plain": [
       "<Figure size 640x480 with 1 Axes>"
      ]
     },
     "metadata": {},
     "output_type": "display_data"
    }
   ],
   "source": [
    "import matplotlib.pyplot as plt\n",
    "import numpy as np\n",
    "# epilson decay graph\n",
    "EPS_START = 0.9\n",
    "EPS_END = 0.05\n",
    "EPS_DECAY = 2000\n",
    "\n",
    "steps_done = np.arange(20000)\n",
    "eps = EPS_END + (EPS_START - EPS_END) * np.exp(-1 * steps_done / EPS_DECAY)\n",
    "plt.plot(steps_done, eps)\n",
    "plt.title('Epsilon decay graph')\n",
    "plt.xlabel('Episode no.')\n",
    "plt.ylabel('Epsilon')\n",
    "plt.show()"
   ]
  },
  {
   "cell_type": "code",
   "execution_count": 8,
   "metadata": {},
   "outputs": [
    {
     "name": "stdout",
     "output_type": "stream",
     "text": [
      "[[[-1  0  0  0]\n",
      "  [ 0  0  0  0]\n",
      "  [ 0  0  0  0]\n",
      "  [ 0  0  0  0]]\n",
      "\n",
      " [[ 1  0  0  0]\n",
      "  [ 0  0  0  0]\n",
      "  [ 0  0  0  0]\n",
      "  [ 0  0  0  0]]\n",
      "\n",
      " [[ 1  0  0  0]\n",
      "  [ 0  0  0  0]\n",
      "  [ 0  0  0  0]\n",
      "  [ 0  0  0  0]]\n",
      "\n",
      " [[ 1  0  0  0]\n",
      "  [ 0  0  0  0]\n",
      "  [ 0  0  0  0]\n",
      "  [ 0  0  0  0]]]\n",
      "[(0, 1), (0, 2), (0, 3), (1, 0), (1, 1), (1, 2), (1, 3), (2, 0), (2, 1), (2, 2), (2, 3), (3, 0), (3, 1), (3, 2), (3, 3)]\n"
     ]
    }
   ],
   "source": [
    "env = ConnectFour3DEnv()\n",
    "\n",
    "env.apply_action([0, 0])\n",
    "env.apply_action([0, 0])\n",
    "env.apply_action([0, 0])\n",
    "env.switch_player()\n",
    "\n",
    "env.apply_action([0, 0])\n",
    "\n",
    "print(env.grid)\n",
    "print(env.get_valid_actions())"
   ]
  }
 ],
 "metadata": {
  "kernelspec": {
   "display_name": "base",
   "language": "python",
   "name": "python3"
  },
  "language_info": {
   "codemirror_mode": {
    "name": "ipython",
    "version": 3
   },
   "file_extension": ".py",
   "mimetype": "text/x-python",
   "name": "python",
   "nbconvert_exporter": "python",
   "pygments_lexer": "ipython3",
   "version": "3.11.5"
  }
 },
 "nbformat": 4,
 "nbformat_minor": 2
}
